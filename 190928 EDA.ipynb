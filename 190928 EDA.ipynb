{
 "cells": [
  {
   "cell_type": "code",
   "execution_count": 1,
   "metadata": {},
   "outputs": [],
   "source": [
    "import pandas as pd\n",
    "import numpy as np\n",
    "import re\n",
    "import pickle"
   ]
  },
  {
   "cell_type": "code",
   "execution_count": 2,
   "metadata": {},
   "outputs": [],
   "source": [
    "df = pd.read_csv('data/data.csv', sep =';')"
   ]
  },
  {
   "cell_type": "code",
   "execution_count": 3,
   "metadata": {},
   "outputs": [
    {
     "data": {
      "text/plain": [
       "Decision - Unanimous       1737\n",
       "KO/TKO                     1647\n",
       "Submission                 1083\n",
       "Decision - Split            486\n",
       "TKO - Doctor's Stoppage      70\n",
       "Decision - Majority          56\n",
       "Overturned                   35\n",
       "DQ                           15\n",
       "Could Not Continue           13\n",
       "Other                         2\n",
       "Name: win_by, dtype: int64"
      ]
     },
     "execution_count": 3,
     "metadata": {},
     "output_type": "execute_result"
    }
   ],
   "source": [
    "df['win_by'].value_counts()"
   ]
  },
  {
   "cell_type": "code",
   "execution_count": 4,
   "metadata": {},
   "outputs": [],
   "source": [
    "def winner (red,winner):\n",
    "    if red == winner:\n",
    "        return 1\n",
    "    else:\n",
    "        return 0"
   ]
  },
  {
   "cell_type": "code",
   "execution_count": 5,
   "metadata": {},
   "outputs": [],
   "source": [
    "df['winner'] = df.apply(lambda x: winner(x['R_fighter'],x['Winner']),axis=1)"
   ]
  },
  {
   "cell_type": "code",
   "execution_count": 6,
   "metadata": {},
   "outputs": [
    {
     "data": {
      "text/plain": [
       "1    3470\n",
       "0    1674\n",
       "Name: winner, dtype: int64"
      ]
     },
     "execution_count": 6,
     "metadata": {},
     "output_type": "execute_result"
    }
   ],
   "source": [
    "df['winner'].value_counts()\n",
    "#whatever model gets selected needs to have an accuracy >67%"
   ]
  },
  {
   "cell_type": "code",
   "execution_count": 7,
   "metadata": {},
   "outputs": [],
   "source": [
    "#subset to decisions only\n",
    "df = df[df['win_by'].str.contains(\"Decision\")]"
   ]
  },
  {
   "cell_type": "code",
   "execution_count": 8,
   "metadata": {},
   "outputs": [
    {
     "data": {
      "text/plain": [
       "1    1456\n",
       "0     823\n",
       "Name: winner, dtype: int64"
      ]
     },
     "execution_count": 8,
     "metadata": {},
     "output_type": "execute_result"
    }
   ],
   "source": [
    "df['winner'].value_counts()"
   ]
  },
  {
   "cell_type": "code",
   "execution_count": 9,
   "metadata": {},
   "outputs": [
    {
     "data": {
      "text/plain": [
       "Index(['R_fighter', 'B_fighter', 'R_KD', 'B_KD', 'R_SIG_STR.', 'B_SIG_STR.',\n",
       "       'R_SIG_STR_pct', 'B_SIG_STR_pct', 'R_TOTAL_STR.', 'B_TOTAL_STR.',\n",
       "       'R_TD', 'B_TD', 'R_TD_pct', 'B_TD_pct', 'R_SUB_ATT', 'B_SUB_ATT',\n",
       "       'R_PASS', 'B_PASS', 'R_REV', 'B_REV', 'R_HEAD', 'B_HEAD', 'R_BODY',\n",
       "       'B_BODY', 'R_LEG', 'B_LEG', 'R_DISTANCE', 'B_DISTANCE', 'R_CLINCH',\n",
       "       'B_CLINCH', 'R_GROUND', 'B_GROUND', 'win_by', 'last_round',\n",
       "       'last_round_time', 'Format', 'Referee', 'date', 'location',\n",
       "       'Fight_type', 'Winner', 'winner'],\n",
       "      dtype='object')"
      ]
     },
     "execution_count": 9,
     "metadata": {},
     "output_type": "execute_result"
    }
   ],
   "source": [
    "df.columns"
   ]
  },
  {
   "cell_type": "code",
   "execution_count": 10,
   "metadata": {},
   "outputs": [],
   "source": [
    "#use the below to convert any string percents to actual percents\n",
    "# df['col'] = df['col'].str.rstrip('%').astype('float') / 100.0\n",
    "df['R_SIG_STR_pct'] = df['R_SIG_STR_pct'].str.rstrip('%').astype('float') / 100.0\n",
    "df['B_SIG_STR_pct'] = df['B_SIG_STR_pct'].str.rstrip('%').astype('float') / 100.0\n",
    "df['R_TD_pct'] = df['R_TD_pct'].str.rstrip('%').astype('float') / 100.0\n",
    "df['B_TD_pct'] = df['B_TD_pct'].str.rstrip('%').astype('float') / 100.0\n"
   ]
  },
  {
   "cell_type": "code",
   "execution_count": 11,
   "metadata": {},
   "outputs": [],
   "source": [
    "#subset to columns dealing with strikes, takedowns and submissions\n",
    "X = pd.DataFrame()\n",
    "X['strike_diff'] = df['R_SIG_STR_pct'] - df['B_SIG_STR_pct']\n",
    "X['td_diff'] = df['R_TD_pct'] - df['B_TD_pct']\n",
    "X['sub_diff'] = df['R_SUB_ATT'] - df['B_SUB_ATT']\n",
    "X['pass_diff'] = df['R_PASS'] - df['B_PASS']"
   ]
  },
  {
   "cell_type": "code",
   "execution_count": 12,
   "metadata": {},
   "outputs": [],
   "source": [
    "new1 = df[\"R_HEAD\"].str.split(\"of\", n = 1, expand = True) \n",
    "new2 = df[\"B_HEAD\"].str.split(\"of\", n = 1, expand = True) \n",
    "new3 = df[\"R_BODY\"].str.split(\"of\", n = 1, expand = True) \n",
    "new4 = df[\"B_BODY\"].str.split(\"of\", n = 1, expand = True) \n",
    "new5 = df[\"R_LEG\"].str.split(\"of\", n = 1, expand = True) \n",
    "new6 = df[\"B_LEG\"].str.split(\"of\", n = 1, expand = True) \n",
    "new7 = df[\"R_CLINCH\"].str.split(\"of\", n = 1, expand = True) \n",
    "new8 = df[\"B_CLINCH\"].str.split(\"of\", n = 1, expand = True) \n",
    "new11 = df[\"R_GROUND\"].str.split(\"of\", n = 1, expand = True) \n",
    "new12 = df[\"B_GROUND\"].str.split(\"of\", n = 1, expand = True) \n",
    "\n",
    "X['head_diff'] = new1[0].astype(float)/new1[1].astype(float) - new2[0].astype(float)/new2[1].astype(float)\n",
    "X['body_diff'] = new3[0].astype(float)/new3[1].astype(float) - new4[0].astype(float)/new4[1].astype(float)\n",
    "X['leg_dif'] = new5[0].astype(float)/new5[1].astype(float) - new6[0].astype(float)/new6[1].astype(float)\n",
    "X['clinch_diff'] = new7[0].astype(float)/new7[1].astype(float) - new8[0].astype(float)/new8[1].astype(float)\n",
    "X['ground_diff'] = new11[0].astype(float)/new11[1].astype(float) - new12[0].astype(float)/new12[1].astype(float)\n",
    "X['kd_diff'] = df['R_KD'] - df['B_KD']\n"
   ]
  },
  {
   "cell_type": "code",
   "execution_count": 17,
   "metadata": {},
   "outputs": [
    {
     "data": {
      "text/html": [
       "<div>\n",
       "<style scoped>\n",
       "    .dataframe tbody tr th:only-of-type {\n",
       "        vertical-align: middle;\n",
       "    }\n",
       "\n",
       "    .dataframe tbody tr th {\n",
       "        vertical-align: top;\n",
       "    }\n",
       "\n",
       "    .dataframe thead th {\n",
       "        text-align: right;\n",
       "    }\n",
       "</style>\n",
       "<table border=\"1\" class=\"dataframe\">\n",
       "  <thead>\n",
       "    <tr style=\"text-align: right;\">\n",
       "      <th></th>\n",
       "      <th>strike_diff</th>\n",
       "      <th>td_diff</th>\n",
       "      <th>sub_diff</th>\n",
       "      <th>pass_diff</th>\n",
       "      <th>head_diff</th>\n",
       "      <th>body_diff</th>\n",
       "      <th>leg_dif</th>\n",
       "      <th>clinch_diff</th>\n",
       "      <th>ground_diff</th>\n",
       "      <th>kd_diff</th>\n",
       "    </tr>\n",
       "  </thead>\n",
       "  <tbody>\n",
       "    <tr>\n",
       "      <th>count</th>\n",
       "      <td>2279.000000</td>\n",
       "      <td>2279.000000</td>\n",
       "      <td>2279.000000</td>\n",
       "      <td>2279.000000</td>\n",
       "      <td>2279.000000</td>\n",
       "      <td>2279.000000</td>\n",
       "      <td>2279.000000</td>\n",
       "      <td>2279.000000</td>\n",
       "      <td>2279.000000</td>\n",
       "      <td>2279.000000</td>\n",
       "    </tr>\n",
       "    <tr>\n",
       "      <th>mean</th>\n",
       "      <td>0.031435</td>\n",
       "      <td>0.068934</td>\n",
       "      <td>0.013602</td>\n",
       "      <td>0.594120</td>\n",
       "      <td>0.030515</td>\n",
       "      <td>0.027513</td>\n",
       "      <td>0.018602</td>\n",
       "      <td>0.016624</td>\n",
       "      <td>0.007799</td>\n",
       "      <td>-0.006143</td>\n",
       "    </tr>\n",
       "    <tr>\n",
       "      <th>std</th>\n",
       "      <td>0.169391</td>\n",
       "      <td>0.495057</td>\n",
       "      <td>1.280738</td>\n",
       "      <td>3.476849</td>\n",
       "      <td>0.181440</td>\n",
       "      <td>0.266089</td>\n",
       "      <td>0.267188</td>\n",
       "      <td>0.308276</td>\n",
       "      <td>0.270270</td>\n",
       "      <td>0.585872</td>\n",
       "    </tr>\n",
       "    <tr>\n",
       "      <th>min</th>\n",
       "      <td>-0.700000</td>\n",
       "      <td>-1.000000</td>\n",
       "      <td>-7.000000</td>\n",
       "      <td>-14.000000</td>\n",
       "      <td>-0.785714</td>\n",
       "      <td>-1.000000</td>\n",
       "      <td>-1.000000</td>\n",
       "      <td>-1.000000</td>\n",
       "      <td>-1.000000</td>\n",
       "      <td>-4.000000</td>\n",
       "    </tr>\n",
       "    <tr>\n",
       "      <th>25%</th>\n",
       "      <td>-0.080000</td>\n",
       "      <td>-0.270000</td>\n",
       "      <td>0.000000</td>\n",
       "      <td>-1.000000</td>\n",
       "      <td>-0.080367</td>\n",
       "      <td>-0.133333</td>\n",
       "      <td>-0.100000</td>\n",
       "      <td>-0.142857</td>\n",
       "      <td>0.000000</td>\n",
       "      <td>0.000000</td>\n",
       "    </tr>\n",
       "    <tr>\n",
       "      <th>50%</th>\n",
       "      <td>0.030000</td>\n",
       "      <td>0.000000</td>\n",
       "      <td>0.000000</td>\n",
       "      <td>0.000000</td>\n",
       "      <td>0.030780</td>\n",
       "      <td>0.000000</td>\n",
       "      <td>0.000000</td>\n",
       "      <td>0.000000</td>\n",
       "      <td>0.000000</td>\n",
       "      <td>0.000000</td>\n",
       "    </tr>\n",
       "    <tr>\n",
       "      <th>75%</th>\n",
       "      <td>0.140000</td>\n",
       "      <td>0.440000</td>\n",
       "      <td>0.000000</td>\n",
       "      <td>2.000000</td>\n",
       "      <td>0.140330</td>\n",
       "      <td>0.184772</td>\n",
       "      <td>0.138535</td>\n",
       "      <td>0.169478</td>\n",
       "      <td>0.000000</td>\n",
       "      <td>0.000000</td>\n",
       "    </tr>\n",
       "    <tr>\n",
       "      <th>max</th>\n",
       "      <td>0.800000</td>\n",
       "      <td>1.000000</td>\n",
       "      <td>10.000000</td>\n",
       "      <td>26.000000</td>\n",
       "      <td>0.739394</td>\n",
       "      <td>1.000000</td>\n",
       "      <td>1.000000</td>\n",
       "      <td>1.000000</td>\n",
       "      <td>1.000000</td>\n",
       "      <td>5.000000</td>\n",
       "    </tr>\n",
       "  </tbody>\n",
       "</table>\n",
       "</div>"
      ],
      "text/plain": [
       "       strike_diff      td_diff     sub_diff    pass_diff    head_diff  \\\n",
       "count  2279.000000  2279.000000  2279.000000  2279.000000  2279.000000   \n",
       "mean      0.031435     0.068934     0.013602     0.594120     0.030515   \n",
       "std       0.169391     0.495057     1.280738     3.476849     0.181440   \n",
       "min      -0.700000    -1.000000    -7.000000   -14.000000    -0.785714   \n",
       "25%      -0.080000    -0.270000     0.000000    -1.000000    -0.080367   \n",
       "50%       0.030000     0.000000     0.000000     0.000000     0.030780   \n",
       "75%       0.140000     0.440000     0.000000     2.000000     0.140330   \n",
       "max       0.800000     1.000000    10.000000    26.000000     0.739394   \n",
       "\n",
       "         body_diff      leg_dif  clinch_diff  ground_diff      kd_diff  \n",
       "count  2279.000000  2279.000000  2279.000000  2279.000000  2279.000000  \n",
       "mean      0.027513     0.018602     0.016624     0.007799    -0.006143  \n",
       "std       0.266089     0.267188     0.308276     0.270270     0.585872  \n",
       "min      -1.000000    -1.000000    -1.000000    -1.000000    -4.000000  \n",
       "25%      -0.133333    -0.100000    -0.142857     0.000000     0.000000  \n",
       "50%       0.000000     0.000000     0.000000     0.000000     0.000000  \n",
       "75%       0.184772     0.138535     0.169478     0.000000     0.000000  \n",
       "max       1.000000     1.000000     1.000000     1.000000     5.000000  "
      ]
     },
     "execution_count": 17,
     "metadata": {},
     "output_type": "execute_result"
    }
   ],
   "source": [
    "X = X.fillna(0)\n",
    "X.describe()"
   ]
  },
  {
   "cell_type": "code",
   "execution_count": 20,
   "metadata": {},
   "outputs": [
    {
     "name": "stdout",
     "output_type": "stream",
     "text": [
      "winner         1.000000\n",
      "head_diff      0.456355\n",
      "strike_diff    0.447236\n",
      "pass_diff      0.414691\n",
      "td_diff        0.377615\n",
      "body_diff      0.181708\n",
      "kd_diff        0.173028\n",
      "leg_dif        0.142092\n",
      "clinch_diff    0.121812\n",
      "ground_diff    0.023603\n",
      "sub_diff       0.016548\n",
      "Name: winner, dtype: float64\n"
     ]
    }
   ],
   "source": [
    "tmp = X\n",
    "tmp['winner'] = df['winner']\n",
    "corr  = tmp.corr()\n",
    "print(corr['winner'].sort_values(ascending=False))"
   ]
  },
  {
   "cell_type": "code",
   "execution_count": 14,
   "metadata": {},
   "outputs": [],
   "source": [
    "#initialize scale test and train data sets separetly to avoid leakage\n",
    "from sklearn.model_selection import train_test_split\n",
    "from sklearn.preprocessing import StandardScaler\n",
    "\n",
    "train_scaler=StandardScaler()\n",
    "test_scaler=StandardScaler()"
   ]
  },
  {
   "cell_type": "code",
   "execution_count": 15,
   "metadata": {},
   "outputs": [
    {
     "data": {
      "text/plain": [
       "2279"
      ]
     },
     "execution_count": 15,
     "metadata": {},
     "output_type": "execute_result"
    }
   ],
   "source": [
    "#set up dependant variable\n",
    "y = df['winner'].copy()\n",
    "len(y)"
   ]
  },
  {
   "cell_type": "markdown",
   "metadata": {},
   "source": [
    "# ADD A COMBINED DATA SET TO DETERMINE CORRELATION FOR FEATURE SELECTION!\n"
   ]
  },
  {
   "cell_type": "code",
   "execution_count": null,
   "metadata": {},
   "outputs": [],
   "source": []
  },
  {
   "cell_type": "code",
   "execution_count": 16,
   "metadata": {},
   "outputs": [],
   "source": [
    "# train-test split\n",
    "X_train, X_test, y_train, y_test = train_test_split(X, y, test_size = .25, random_state=21)"
   ]
  },
  {
   "cell_type": "code",
   "execution_count": 17,
   "metadata": {},
   "outputs": [
    {
     "data": {
      "text/plain": [
       "StandardScaler(copy=True, with_mean=True, with_std=True)"
      ]
     },
     "execution_count": 17,
     "metadata": {},
     "output_type": "execute_result"
    }
   ],
   "source": [
    "# Create a scaler \n",
    "train_scaler.fit(X_train)\n",
    "test_scaler.fit(X_test)"
   ]
  },
  {
   "cell_type": "code",
   "execution_count": 18,
   "metadata": {},
   "outputs": [],
   "source": [
    "#archive the training scaler\n",
    "filename = open('data/fitted_scaler.pkl', 'wb')\n",
    "pickle.dump(train_scaler, filename)\n",
    "filename.close()"
   ]
  },
  {
   "cell_type": "code",
   "execution_count": 19,
   "metadata": {},
   "outputs": [],
   "source": [
    "# Now transform\n",
    "X_train_scaled = train_scaler.transform(X_train)\n",
    "X_test_scaled = test_scaler.transform(X_test)"
   ]
  },
  {
   "cell_type": "code",
   "execution_count": 20,
   "metadata": {},
   "outputs": [],
   "source": [
    "# confirm that that did what we wanted\n",
    "X_train_scaled_df = pd.DataFrame(X_train_scaled, columns=X.columns)\n",
    "X_test_scaled_df = pd.DataFrame(X_test_scaled, columns=X.columns)"
   ]
  },
  {
   "cell_type": "code",
   "execution_count": 21,
   "metadata": {},
   "outputs": [],
   "source": [
    "# Pickle training data set for future graphical work\n",
    "X_train.to_pickle('data/train.pkl') "
   ]
  },
  {
   "cell_type": "code",
   "execution_count": 22,
   "metadata": {},
   "outputs": [
    {
     "name": "stderr",
     "output_type": "stream",
     "text": [
      "/Applications/anaconda3/lib/python3.7/site-packages/sklearn/linear_model/logistic.py:432: FutureWarning: Default solver will be changed to 'lbfgs' in 0.22. Specify a solver to silence this warning.\n",
      "  FutureWarning)\n",
      "/Applications/anaconda3/lib/python3.7/site-packages/sklearn/ensemble/forest.py:245: FutureWarning: The default value of n_estimators will change from 10 in version 0.20 to 100 in 0.22.\n",
      "  \"10 in version 0.20 to 100 in 0.22.\", FutureWarning)\n"
     ]
    },
    {
     "data": {
      "text/plain": [
       "VotingClassifier(estimators=[('lr',\n",
       "                              LogisticRegression(C=1.0, class_weight=None,\n",
       "                                                 dual=False, fit_intercept=True,\n",
       "                                                 intercept_scaling=1,\n",
       "                                                 l1_ratio=None, max_iter=100,\n",
       "                                                 multi_class='warn',\n",
       "                                                 n_jobs=None, penalty='l2',\n",
       "                                                 random_state=None,\n",
       "                                                 solver='warn', tol=0.0001,\n",
       "                                                 verbose=0, warm_start=False)),\n",
       "                             ('rf',\n",
       "                              RandomForestClassifier(bootstrap=True,\n",
       "                                                     class_weight=None,\n",
       "                                                     criterion='gini',...\n",
       "                                                     max_features='auto',\n",
       "                                                     max_leaf_nodes=None,\n",
       "                                                     min_impurity_decrease=0.0,\n",
       "                                                     min_impurity_split=None,\n",
       "                                                     min_samples_leaf=1,\n",
       "                                                     min_samples_split=2,\n",
       "                                                     min_weight_fraction_leaf=0.0,\n",
       "                                                     n_estimators='warn',\n",
       "                                                     n_jobs=None,\n",
       "                                                     oob_score=False,\n",
       "                                                     random_state=None,\n",
       "                                                     verbose=0,\n",
       "                                                     warm_start=False)),\n",
       "                             ('gnb',\n",
       "                              GaussianNB(priors=None, var_smoothing=1e-09))],\n",
       "                 flatten_transform=True, n_jobs=None, voting='hard',\n",
       "                 weights=None)"
      ]
     },
     "execution_count": 22,
     "metadata": {},
     "output_type": "execute_result"
    }
   ],
   "source": [
    "#random forest, logistic regression, Naive-Bayes? \n",
    "#Reminder: target accuracy is >67%\n",
    "from sklearn.ensemble import RandomForestClassifier \n",
    "from sklearn.ensemble import VotingClassifier\n",
    "from sklearn.linear_model import LogisticRegression \n",
    "from sklearn.naive_bayes import GaussianNB\n",
    "\n",
    "log_clf = LogisticRegression() \n",
    "rnd_clf = RandomForestClassifier() \n",
    "gnb_clf = GaussianNB()\n",
    "\n",
    "voting_clf = VotingClassifier(\n",
    "estimators=[('lr', log_clf), ('rf', rnd_clf), ('gnb', gnb_clf)], voting='hard')\n",
    "voting_clf.fit(X_train, y_train)"
   ]
  },
  {
   "cell_type": "code",
   "execution_count": 23,
   "metadata": {},
   "outputs": [
    {
     "name": "stdout",
     "output_type": "stream",
     "text": [
      "LogisticRegression 0.7894736842105263\n",
      "RandomForestClassifier 0.7631578947368421\n",
      "GaussianNB 0.7842105263157895\n",
      "VotingClassifier 0.7842105263157895\n"
     ]
    },
    {
     "name": "stderr",
     "output_type": "stream",
     "text": [
      "/Applications/anaconda3/lib/python3.7/site-packages/sklearn/linear_model/logistic.py:432: FutureWarning: Default solver will be changed to 'lbfgs' in 0.22. Specify a solver to silence this warning.\n",
      "  FutureWarning)\n",
      "/Applications/anaconda3/lib/python3.7/site-packages/sklearn/ensemble/forest.py:245: FutureWarning: The default value of n_estimators will change from 10 in version 0.20 to 100 in 0.22.\n",
      "  \"10 in version 0.20 to 100 in 0.22.\", FutureWarning)\n",
      "/Applications/anaconda3/lib/python3.7/site-packages/sklearn/linear_model/logistic.py:432: FutureWarning: Default solver will be changed to 'lbfgs' in 0.22. Specify a solver to silence this warning.\n",
      "  FutureWarning)\n"
     ]
    }
   ],
   "source": [
    "\n",
    "from sklearn.metrics import accuracy_score\n",
    "\n",
    "for clf in (log_clf, rnd_clf, gnb_clf, voting_clf):\n",
    "    clf.fit(X_train, y_train)\n",
    "    y_pred = clf.predict(X_test)\n",
    "    print(clf.__class__.__name__, accuracy_score(y_test, y_pred))"
   ]
  }
 ],
 "metadata": {
  "kernelspec": {
   "display_name": "Python 3",
   "language": "python",
   "name": "python3"
  },
  "language_info": {
   "codemirror_mode": {
    "name": "ipython",
    "version": 3
   },
   "file_extension": ".py",
   "mimetype": "text/x-python",
   "name": "python",
   "nbconvert_exporter": "python",
   "pygments_lexer": "ipython3",
   "version": "3.7.3"
  }
 },
 "nbformat": 4,
 "nbformat_minor": 2
}
